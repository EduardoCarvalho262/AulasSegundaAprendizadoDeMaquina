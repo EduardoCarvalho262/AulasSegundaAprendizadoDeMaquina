{
  "nbformat": 4,
  "nbformat_minor": 0,
  "metadata": {
    "colab": {
      "name": "Untitled1.ipynb",
      "provenance": [],
      "collapsed_sections": [],
      "authorship_tag": "ABX9TyPSsmYLxodWc9/UEPZ1d1J8",
      "include_colab_link": true
    },
    "kernelspec": {
      "name": "python3",
      "display_name": "Python 3"
    },
    "language_info": {
      "name": "python"
    }
  },
  "cells": [
    {
      "cell_type": "markdown",
      "metadata": {
        "id": "view-in-github",
        "colab_type": "text"
      },
      "source": [
        "<a href=\"https://colab.research.google.com/github/EduardoCarvalho262/AulasSegundaAprendizadoDeMaquina/blob/main/Orienta%C3%A7%C3%A3AObjetos.ipynb\" target=\"_parent\"><img src=\"https://colab.research.google.com/assets/colab-badge.svg\" alt=\"Open In Colab\"/></a>"
      ]
    },
    {
      "cell_type": "markdown",
      "source": [
        "#Orientação a Objetos"
      ],
      "metadata": {
        "id": "dc1ySpjI9QsE"
      }
    },
    {
      "cell_type": "code",
      "execution_count": 2,
      "metadata": {
        "id": "nWuLpHdn85nZ"
      },
      "outputs": [],
      "source": [
        "class NomeClasse:\n",
        "  pass"
      ]
    },
    {
      "cell_type": "code",
      "source": [
        "exemplo = NomeClasse()"
      ],
      "metadata": {
        "id": "9HoBSyuJ9tG2"
      },
      "execution_count": 3,
      "outputs": []
    },
    {
      "cell_type": "code",
      "source": [
        "exemplo"
      ],
      "metadata": {
        "colab": {
          "base_uri": "https://localhost:8080/"
        },
        "id": "iaOF5_A89_qZ",
        "outputId": "d2052474-2b53-4f85-df72-2360ef06676c"
      },
      "execution_count": 4,
      "outputs": [
        {
          "output_type": "execute_result",
          "data": {
            "text/plain": [
              "<__main__.NomeClasse at 0x7f6243e178d0>"
            ]
          },
          "metadata": {},
          "execution_count": 4
        }
      ]
    },
    {
      "cell_type": "code",
      "source": [
        "class Cachorro:\n",
        "  def __init__(self, nome, idade, cor):\n",
        "    self.__nome = nome\n",
        "    self.__idade = idade\n",
        "    self.__cor = cor #Amo Java S2\n",
        "  \n",
        "\n",
        "  @property\n",
        "  def ObterNome(self):\n",
        "      return self.__nome;\n",
        "\n",
        "  def DefinirNome(self, novo_nome):\n",
        "      self.__nome = novo_nome\n",
        "\n",
        "  #Comportamentos\n",
        "  def Ladra(self):\n",
        "    print(\"Au au au\")\n",
        "  #Status"
      ],
      "metadata": {
        "id": "ZYyFxqmf-awD"
      },
      "execution_count": 58,
      "outputs": []
    },
    {
      "cell_type": "code",
      "source": [
        "scott = Cachorro(\"Scott\", 5, \"Marrom\")\n"
      ],
      "metadata": {
        "id": "6IXT-QH2_SD0"
      },
      "execution_count": 59,
      "outputs": []
    },
    {
      "cell_type": "code",
      "source": [
        "scott.ObterNome"
      ],
      "metadata": {
        "colab": {
          "base_uri": "https://localhost:8080/",
          "height": 35
        },
        "id": "7iFmV-l1_Y7A",
        "outputId": "fb2ab0c6-c445-4c2e-bded-4f5e36219b2c"
      },
      "execution_count": 57,
      "outputs": [
        {
          "output_type": "execute_result",
          "data": {
            "application/vnd.google.colaboratory.intrinsic+json": {
              "type": "string"
            },
            "text/plain": [
              "'Scott'"
            ]
          },
          "metadata": {},
          "execution_count": 57
        }
      ]
    },
    {
      "cell_type": "code",
      "source": [
        "scott.idade"
      ],
      "metadata": {
        "colab": {
          "base_uri": "https://localhost:8080/"
        },
        "id": "Mt92_XXs_dB5",
        "outputId": "b92ac32f-64c6-4f52-809d-42782f1cdf63"
      },
      "execution_count": 31,
      "outputs": [
        {
          "output_type": "execute_result",
          "data": {
            "text/plain": [
              "5"
            ]
          },
          "metadata": {},
          "execution_count": 31
        }
      ]
    },
    {
      "cell_type": "code",
      "source": [
        "scott.Ladra()"
      ],
      "metadata": {
        "colab": {
          "base_uri": "https://localhost:8080/"
        },
        "id": "PVZhoXpO_-JU",
        "outputId": "dafc197b-27fa-4ae5-8a1e-e25874f8bc24"
      },
      "execution_count": 38,
      "outputs": [
        {
          "output_type": "stream",
          "name": "stdout",
          "text": [
            "Au au au\n"
          ]
        }
      ]
    },
    {
      "cell_type": "markdown",
      "source": [
        "#Herança"
      ],
      "metadata": {
        "id": "rApQw-0RHYle"
      }
    },
    {
      "cell_type": "code",
      "source": [
        "class Cachorro:\n",
        "  def __init__(self, nome, idade, cor):\n",
        "    self.__nome = nome\n",
        "    self.__idade = idade\n",
        "    self.__cor = cor #Amo Java S2\n",
        "  \n",
        "\n",
        "  @property\n",
        "  def ObterNome(self):\n",
        "      return self.__nome;\n",
        "\n",
        "  def DefinirNome(self, novo_nome):\n",
        "      self.__nome = novo_nome\n",
        "\n",
        "  #Comportamentos\n",
        "  def Ladra(self):\n",
        "    print(\"Au au au\", self.__nome)\n",
        "\n",
        "class Poodle(Cachorro):\n",
        "  def __init__(self, nome, idade, cor):\n",
        "    # Cachorro.__init__(self, nome, idade, cor)#Amo Java S2\n",
        "    super().__init__(nome, idade, cor)\n",
        "\n",
        "  def Brincar(self):\n",
        "    print(\"Estou brincando pra caralho!\")"
      ],
      "metadata": {
        "id": "AxBAumDiHa9Z"
      },
      "execution_count": 75,
      "outputs": []
    },
    {
      "cell_type": "code",
      "source": [
        "poodle = Poodle(\"maria\", 5, \"Preta\")"
      ],
      "metadata": {
        "id": "IQ7F_VfYI8TP"
      },
      "execution_count": 76,
      "outputs": []
    },
    {
      "cell_type": "code",
      "source": [
        "poodle.ObterNome"
      ],
      "metadata": {
        "colab": {
          "base_uri": "https://localhost:8080/",
          "height": 35
        },
        "id": "VMO8x_5bJKKq",
        "outputId": "748154ae-8f70-4d4f-fa94-010cd5a05e25"
      },
      "execution_count": 77,
      "outputs": [
        {
          "output_type": "execute_result",
          "data": {
            "application/vnd.google.colaboratory.intrinsic+json": {
              "type": "string"
            },
            "text/plain": [
              "'maria'"
            ]
          },
          "metadata": {},
          "execution_count": 77
        }
      ]
    },
    {
      "cell_type": "code",
      "source": [
        "poodle.Brincar()"
      ],
      "metadata": {
        "colab": {
          "base_uri": "https://localhost:8080/"
        },
        "id": "goz5KPbFK8iT",
        "outputId": "000420be-3dec-4ff9-dea4-020652e7b719"
      },
      "execution_count": 78,
      "outputs": [
        {
          "output_type": "stream",
          "name": "stdout",
          "text": [
            "Estou brincando pra caralho!\n"
          ]
        }
      ]
    }
  ]
}